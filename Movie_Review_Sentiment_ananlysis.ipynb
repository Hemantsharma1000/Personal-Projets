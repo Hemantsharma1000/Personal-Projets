{
  "nbformat": 4,
  "nbformat_minor": 0,
  "metadata": {
    "colab": {
      "provenance": [],
      "gpuType": "T4",
      "authorship_tag": "ABX9TyPPAOBUGxw/A1EW6CeKMxNL",
      "include_colab_link": true
    },
    "kernelspec": {
      "name": "python3",
      "display_name": "Python 3"
    },
    "language_info": {
      "name": "python"
    },
    "accelerator": "GPU"
  },
  "cells": [
    {
      "cell_type": "markdown",
      "metadata": {
        "id": "view-in-github",
        "colab_type": "text"
      },
      "source": [
        "<a href=\"https://colab.research.google.com/github/Hemantsharma1000/Personal-Projets/blob/main/Movie_Review_Sentiment_ananlysis.ipynb\" target=\"_parent\"><img src=\"https://colab.research.google.com/assets/colab-badge.svg\" alt=\"Open In Colab\"/></a>"
      ]
    },
    {
      "cell_type": "code",
      "execution_count": null,
      "metadata": {
        "id": "hROnZ4rhjelf"
      },
      "outputs": [],
      "source": [
        "from tensorflow.keras.layers import SimpleRNN, LSTM, GRU, Bidirectional, Dense, Embedding\n",
        "from tensorflow.keras.datasets import imdb\n",
        "from tensorflow.keras.models import Sequential\n",
        "import numpy as np"
      ]
    },
    {
      "cell_type": "code",
      "source": [
        "vocab_size = 5000\n",
        "(x_train, y_train), (x_test, y_test) = imdb.load_data(num_words=vocab_size)\n",
        "print(x_train[0])"
      ],
      "metadata": {
        "colab": {
          "base_uri": "https://localhost:8080/"
        },
        "id": "W8GxjXhljkZu",
        "outputId": "55c7810a-9849-4d8a-d24b-7de326402f15"
      },
      "execution_count": null,
      "outputs": [
        {
          "output_type": "stream",
          "name": "stdout",
          "text": [
            "[1, 14, 22, 16, 43, 530, 973, 1622, 1385, 65, 458, 4468, 66, 3941, 4, 173, 36, 256, 5, 25, 100, 43, 838, 112, 50, 670, 2, 9, 35, 480, 284, 5, 150, 4, 172, 112, 167, 2, 336, 385, 39, 4, 172, 4536, 1111, 17, 546, 38, 13, 447, 4, 192, 50, 16, 6, 147, 2025, 19, 14, 22, 4, 1920, 4613, 469, 4, 22, 71, 87, 12, 16, 43, 530, 38, 76, 15, 13, 1247, 4, 22, 17, 515, 17, 12, 16, 626, 18, 2, 5, 62, 386, 12, 8, 316, 8, 106, 5, 4, 2223, 2, 16, 480, 66, 3785, 33, 4, 130, 12, 16, 38, 619, 5, 25, 124, 51, 36, 135, 48, 25, 1415, 33, 6, 22, 12, 215, 28, 77, 52, 5, 14, 407, 16, 82, 2, 8, 4, 107, 117, 2, 15, 256, 4, 2, 7, 3766, 5, 723, 36, 71, 43, 530, 476, 26, 400, 317, 46, 7, 4, 2, 1029, 13, 104, 88, 4, 381, 15, 297, 98, 32, 2071, 56, 26, 141, 6, 194, 2, 18, 4, 226, 22, 21, 134, 476, 26, 480, 5, 144, 30, 2, 18, 51, 36, 28, 224, 92, 25, 104, 4, 226, 65, 16, 38, 1334, 88, 12, 16, 283, 5, 16, 4472, 113, 103, 32, 15, 16, 2, 19, 178, 32]\n"
          ]
        }
      ]
    },
    {
      "cell_type": "code",
      "source": [
        "word_idx = imdb.get_word_index()\n",
        "word_idx = {i: word for word, i in word_idx.items()}\n",
        "print([word_idx[i] for i in x_train[0]])"
      ],
      "metadata": {
        "colab": {
          "base_uri": "https://localhost:8080/"
        },
        "id": "7tXoIneuj4nn",
        "outputId": "a2f39750-2e71-4a4d-ec1b-76807d5ad05e"
      },
      "execution_count": null,
      "outputs": [
        {
          "output_type": "stream",
          "name": "stdout",
          "text": [
            "['the', 'as', 'you', 'with', 'out', 'themselves', 'powerful', 'lets', 'loves', 'their', 'becomes', 'reaching', 'had', 'journalist', 'of', 'lot', 'from', 'anyone', 'to', 'have', 'after', 'out', 'atmosphere', 'never', 'more', 'room', 'and', 'it', 'so', 'heart', 'shows', 'to', 'years', 'of', 'every', 'never', 'going', 'and', 'help', 'moments', 'or', 'of', 'every', 'chest', 'visual', 'movie', 'except', 'her', 'was', 'several', 'of', 'enough', 'more', 'with', 'is', 'now', 'current', 'film', 'as', 'you', 'of', 'mine', 'potentially', 'unfortunately', 'of', 'you', 'than', 'him', 'that', 'with', 'out', 'themselves', 'her', 'get', 'for', 'was', 'camp', 'of', 'you', 'movie', 'sometimes', 'movie', 'that', 'with', 'scary', 'but', 'and', 'to', 'story', 'wonderful', 'that', 'in', 'seeing', 'in', 'character', 'to', 'of', '70s', 'and', 'with', 'heart', 'had', 'shadows', 'they', 'of', 'here', 'that', 'with', 'her', 'serious', 'to', 'have', 'does', 'when', 'from', 'why', 'what', 'have', 'critics', 'they', 'is', 'you', 'that', \"isn't\", 'one', 'will', 'very', 'to', 'as', 'itself', 'with', 'other', 'and', 'in', 'of', 'seen', 'over', 'and', 'for', 'anyone', 'of', 'and', 'br', \"show's\", 'to', 'whether', 'from', 'than', 'out', 'themselves', 'history', 'he', 'name', 'half', 'some', 'br', 'of', 'and', 'odd', 'was', 'two', 'most', 'of', 'mean', 'for', '1', 'any', 'an', 'boat', 'she', 'he', 'should', 'is', 'thought', 'and', 'but', 'of', 'script', 'you', 'not', 'while', 'history', 'he', 'heart', 'to', 'real', 'at', 'and', 'but', 'when', 'from', 'one', 'bit', 'then', 'have', 'two', 'of', 'script', 'their', 'with', 'her', 'nobody', 'most', 'that', 'with', \"wasn't\", 'to', 'with', 'armed', 'acting', 'watch', 'an', 'for', 'with', 'and', 'film', 'want', 'an']\n"
          ]
        }
      ]
    },
    {
      "cell_type": "code",
      "source": [
        "print(\"Max length of a review:: \", len(max((x_train+x_test), key=len)))\n",
        "print(\"Min length of a review:: \", len(min((x_train+x_test), key=len)))"
      ],
      "metadata": {
        "colab": {
          "base_uri": "https://localhost:8080/"
        },
        "id": "vlNeW5StkOZU",
        "outputId": "79cec315-8326-45db-c9ba-8648d60fb777"
      },
      "execution_count": null,
      "outputs": [
        {
          "output_type": "stream",
          "name": "stdout",
          "text": [
            "Max length of a review::  2697\n",
            "Min length of a review::  70\n"
          ]
        }
      ]
    },
    {
      "cell_type": "code",
      "source": [
        "from tensorflow.keras.preprocessing import sequence\n",
        "\n",
        "max_words = 400\n",
        "\n",
        "x_train = sequence.pad_sequences(x_train, maxlen=max_words)\n",
        "x_test = sequence.pad_sequences(x_test, maxlen=max_words)\n",
        "\n",
        "x_valid, y_valid = x_train[:64], y_train[:64]\n",
        "x_train_, y_train_ = x_train[64:], y_train[64:]"
      ],
      "metadata": {
        "id": "77j55IMfkSFz"
      },
      "execution_count": null,
      "outputs": []
    },
    {
      "cell_type": "code",
      "source": [
        "embd_len = 32\n",
        "\n",
        "RNN_model = Sequential(name=\"Simple_RNN\")\n",
        "RNN_model.add(Embedding(vocab_size,embd_len,input_length=max_words))\n",
        "RNN_model.add(SimpleRNN(128,activation='tanh',return_sequences=False))\n",
        "RNN_model.add(Dense(1, activation='sigmoid'))\n",
        "\n",
        "print(RNN_model.summary())\n",
        "\n",
        "RNN_model.compile(loss=\"binary_crossentropy\",optimizer='adam',metrics=['accuracy'])\n",
        "\n",
        "history = RNN_model.fit(x_train_, y_train_,batch_size=64,epochs=5,verbose=1,validation_data=(x_valid, y_valid))\n",
        "\n",
        "print()\n",
        "print(\"Simple_RNN Score---> \", RNN_model.evaluate(x_test, y_test, verbose=0))"
      ],
      "metadata": {
        "colab": {
          "base_uri": "https://localhost:8080/"
        },
        "id": "q6hdGJWykVzR",
        "outputId": "5e8a73e7-c540-4c34-9df1-e5d800d9d9d9"
      },
      "execution_count": null,
      "outputs": [
        {
          "output_type": "stream",
          "name": "stdout",
          "text": [
            "Model: \"Simple_RNN\"\n",
            "_________________________________________________________________\n",
            " Layer (type)                Output Shape              Param #   \n",
            "=================================================================\n",
            " embedding_4 (Embedding)     (None, 400, 32)           160000    \n",
            "                                                                 \n",
            " simple_rnn_1 (SimpleRNN)    (None, 128)               20608     \n",
            "                                                                 \n",
            " dense_4 (Dense)             (None, 1)                 129       \n",
            "                                                                 \n",
            "=================================================================\n",
            "Total params: 180737 (706.00 KB)\n",
            "Trainable params: 180737 (706.00 KB)\n",
            "Non-trainable params: 0 (0.00 Byte)\n",
            "_________________________________________________________________\n",
            "None\n",
            "Epoch 1/5\n",
            "390/390 [==============================] - 159s 405ms/step - loss: 0.6858 - accuracy: 0.5446 - val_loss: 0.6420 - val_accuracy: 0.7031\n",
            "Epoch 2/5\n",
            "390/390 [==============================] - 146s 375ms/step - loss: 0.5970 - accuracy: 0.6686 - val_loss: 0.6270 - val_accuracy: 0.6406\n",
            "Epoch 3/5\n",
            "390/390 [==============================] - 145s 372ms/step - loss: 0.5009 - accuracy: 0.7615 - val_loss: 0.5753 - val_accuracy: 0.6875\n",
            "Epoch 4/5\n",
            "390/390 [==============================] - 143s 365ms/step - loss: 0.4974 - accuracy: 0.7459 - val_loss: 0.7239 - val_accuracy: 0.5781\n",
            "Epoch 5/5\n",
            "390/390 [==============================] - 139s 356ms/step - loss: 0.4769 - accuracy: 0.7716 - val_loss: 0.4194 - val_accuracy: 0.8125\n",
            "\n",
            "Simple_RNN Score--->  [0.44720348715782166, 0.805079996585846]\n"
          ]
        }
      ]
    },
    {
      "cell_type": "code",
      "source": [
        "gru_model = Sequential(name=\"GRU_Model\")\n",
        "gru_model.add(Embedding(vocab_size,embd_len,input_length=max_words))\n",
        "gru_model.add(GRU(128,activation='tanh',return_sequences=False))\n",
        "gru_model.add(Dense(1, activation='sigmoid'))\n",
        "\n",
        "print(gru_model.summary())\n",
        "\n",
        "gru_model.compile(loss=\"binary_crossentropy\",optimizer='adam',metrics=['accuracy'])\n",
        "\n",
        "history2 = gru_model.fit(x_train_, y_train_,batch_size=64,epochs=5,verbose=1,validation_data=(x_valid, y_valid))\n",
        "\n",
        "print()\n",
        "print(\"GRU model Score---> \", gru_model.evaluate(x_test, y_test, verbose=0))"
      ],
      "metadata": {
        "colab": {
          "base_uri": "https://localhost:8080/"
        },
        "id": "AxuQ9qK7rS8D",
        "outputId": "212b9954-e198-4681-c4ac-d05c252fd626"
      },
      "execution_count": null,
      "outputs": [
        {
          "output_type": "stream",
          "name": "stdout",
          "text": [
            "Model: \"GRU_Model\"\n",
            "_________________________________________________________________\n",
            " Layer (type)                Output Shape              Param #   \n",
            "=================================================================\n",
            " embedding_5 (Embedding)     (None, 400, 32)           160000    \n",
            "                                                                 \n",
            " gru_1 (GRU)                 (None, 128)               62208     \n",
            "                                                                 \n",
            " dense_5 (Dense)             (None, 1)                 129       \n",
            "                                                                 \n",
            "=================================================================\n",
            "Total params: 222337 (868.50 KB)\n",
            "Trainable params: 222337 (868.50 KB)\n",
            "Non-trainable params: 0 (0.00 Byte)\n",
            "_________________________________________________________________\n",
            "None\n",
            "Epoch 1/5\n",
            "390/390 [==============================] - 35s 85ms/step - loss: 0.5026 - accuracy: 0.7344 - val_loss: 0.3268 - val_accuracy: 0.8438\n",
            "Epoch 2/5\n",
            "390/390 [==============================] - 15s 40ms/step - loss: 0.2987 - accuracy: 0.8774 - val_loss: 0.2683 - val_accuracy: 0.8750\n",
            "Epoch 3/5\n",
            "390/390 [==============================] - 11s 29ms/step - loss: 0.2456 - accuracy: 0.9033 - val_loss: 0.2538 - val_accuracy: 0.8906\n",
            "Epoch 4/5\n",
            "390/390 [==============================] - 9s 23ms/step - loss: 0.2389 - accuracy: 0.9039 - val_loss: 0.2016 - val_accuracy: 0.9531\n",
            "Epoch 5/5\n",
            "390/390 [==============================] - 9s 22ms/step - loss: 0.1659 - accuracy: 0.9371 - val_loss: 0.2132 - val_accuracy: 0.9219\n",
            "\n",
            "GRU model Score--->  [0.2924146354198456, 0.8879200220108032]\n"
          ]
        }
      ]
    },
    {
      "cell_type": "code",
      "source": [
        "lstm_model = Sequential(name=\"LSTM_Model\")\n",
        "lstm_model.add(Embedding(vocab_size,embd_len,input_length=max_words))\n",
        "lstm_model.add(LSTM(128,activation='relu',return_sequences=False))\n",
        "lstm_model.add(Dense(1, activation='sigmoid'))\n",
        "\n",
        "print(lstm_model.summary())\n",
        "lstm_model.compile(loss=\"binary_crossentropy\",optimizer='adam',metrics=['accuracy'])\n",
        "\n",
        "history3 = lstm_model.fit(x_train_, y_train_,batch_size=64,epochs=5,verbose=2,validation_data=(x_valid, y_valid))\n",
        "\n",
        "print()\n",
        "print(\"LSTM model Score---> \", lstm_model.evaluate(x_test, y_test, verbose=0))"
      ],
      "metadata": {
        "colab": {
          "base_uri": "https://localhost:8080/"
        },
        "id": "0C-98EIYkb5m",
        "outputId": "46b85515-1c9d-4b0b-fc55-abd80009c8e2"
      },
      "execution_count": null,
      "outputs": [
        {
          "metadata": {
            "tags": null
          },
          "name": "stderr",
          "output_type": "stream",
          "text": [
            "WARNING:tensorflow:Layer lstm will not use cuDNN kernels since it doesn't meet the criteria. It will use a generic GPU kernel as fallback when running on GPU.\n"
          ]
        },
        {
          "output_type": "stream",
          "name": "stdout",
          "text": [
            "Model: \"LSTM_Model\"\n",
            "_________________________________________________________________\n",
            " Layer (type)                Output Shape              Param #   \n",
            "=================================================================\n",
            " embedding_2 (Embedding)     (None, 400, 32)           160000    \n",
            "                                                                 \n",
            " lstm (LSTM)                 (None, 128)               82432     \n",
            "                                                                 \n",
            " dense_2 (Dense)             (None, 1)                 129       \n",
            "                                                                 \n",
            "=================================================================\n",
            "Total params: 242561 (947.50 KB)\n",
            "Trainable params: 242561 (947.50 KB)\n",
            "Non-trainable params: 0 (0.00 Byte)\n",
            "_________________________________________________________________\n",
            "None\n",
            "Epoch 1/5\n",
            "390/390 - 242s - loss: nan - accuracy: 0.5056 - val_loss: nan - val_accuracy: 0.6094 - 242s/epoch - 621ms/step\n",
            "Epoch 2/5\n",
            "390/390 - 222s - loss: nan - accuracy: 0.4997 - val_loss: nan - val_accuracy: 0.6094 - 222s/epoch - 570ms/step\n",
            "Epoch 3/5\n",
            "390/390 - 220s - loss: nan - accuracy: 0.4997 - val_loss: nan - val_accuracy: 0.6094 - 220s/epoch - 564ms/step\n",
            "Epoch 4/5\n",
            "390/390 - 220s - loss: nan - accuracy: 0.4997 - val_loss: nan - val_accuracy: 0.6094 - 220s/epoch - 563ms/step\n",
            "Epoch 5/5\n",
            "390/390 - 219s - loss: nan - accuracy: 0.4997 - val_loss: nan - val_accuracy: 0.6094 - 219s/epoch - 561ms/step\n",
            "\n",
            "LSTM model Score--->  [nan, 0.5]\n"
          ]
        }
      ]
    },
    {
      "cell_type": "code",
      "source": [
        "bi_lstm_model = Sequential(name=\"Bidirectional_LSTM\")\n",
        "bi_lstm_model.add(Embedding(vocab_size,embd_len,input_length=max_words))\n",
        "bi_lstm_model.add(Bidirectional(LSTM(128,activation='tanh',return_sequences=False)))\n",
        "bi_lstm_model.add(Dense(1, activation='sigmoid'))\n",
        "\n",
        "print(bi_lstm_model.summary())\n",
        "\n",
        "bi_lstm_model.compile(loss=\"binary_crossentropy\",optimizer='adam',metrics=['accuracy'])\n",
        "\n",
        "history4 = bi_lstm_model.fit(x_train_, y_train_,batch_size=64,epochs=5,verbose=2,validation_data=(x_test, y_test))\n",
        "\n",
        "print()\n",
        "print(\"Bidirectional LSTM model Score---> \",\n",
        "      bi_lstm_model.evaluate(x_test, y_test, verbose=0))"
      ],
      "metadata": {
        "colab": {
          "base_uri": "https://localhost:8080/"
        },
        "id": "vQ8C39qImN8z",
        "outputId": "ff689696-c895-4bd7-bd2e-8d1b324d6840"
      },
      "execution_count": null,
      "outputs": [
        {
          "output_type": "stream",
          "name": "stdout",
          "text": [
            "Model: \"Bidirectional_LSTM\"\n",
            "_________________________________________________________________\n",
            " Layer (type)                Output Shape              Param #   \n",
            "=================================================================\n",
            " embedding_3 (Embedding)     (None, 400, 32)           160000    \n",
            "                                                                 \n",
            " bidirectional (Bidirection  (None, 256)               164864    \n",
            " al)                                                             \n",
            "                                                                 \n",
            " dense_3 (Dense)             (None, 1)                 257       \n",
            "                                                                 \n",
            "=================================================================\n",
            "Total params: 325121 (1.24 MB)\n",
            "Trainable params: 325121 (1.24 MB)\n",
            "Non-trainable params: 0 (0.00 Byte)\n",
            "_________________________________________________________________\n",
            "None\n",
            "Epoch 1/5\n",
            "390/390 - 43s - loss: 0.5104 - accuracy: 0.7366 - val_loss: 0.3786 - val_accuracy: 0.8374 - 43s/epoch - 111ms/step\n",
            "Epoch 2/5\n",
            "390/390 - 24s - loss: 0.3072 - accuracy: 0.8754 - val_loss: 0.3536 - val_accuracy: 0.8554 - 24s/epoch - 62ms/step\n",
            "Epoch 3/5\n",
            "390/390 - 21s - loss: 0.2689 - accuracy: 0.8944 - val_loss: 0.3150 - val_accuracy: 0.8710 - 21s/epoch - 54ms/step\n",
            "Epoch 4/5\n",
            "390/390 - 21s - loss: 0.2239 - accuracy: 0.9134 - val_loss: 0.3135 - val_accuracy: 0.8738 - 21s/epoch - 54ms/step\n",
            "Epoch 5/5\n",
            "390/390 - 19s - loss: 0.1953 - accuracy: 0.9270 - val_loss: 0.3372 - val_accuracy: 0.8718 - 19s/epoch - 50ms/step\n",
            "\n",
            "Bidirectional LSTM model Score--->  [0.337239533662796, 0.8718000054359436]\n"
          ]
        }
      ]
    }
  ]
}